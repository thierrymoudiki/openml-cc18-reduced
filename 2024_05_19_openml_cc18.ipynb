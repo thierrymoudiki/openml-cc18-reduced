{
  "cells": [
    {
      "cell_type": "markdown",
      "metadata": {
        "id": "MHMAJDndXWdh"
      },
      "source": [
        "# 0 - Import and installs"
      ]
    },
    {
      "cell_type": "code",
      "execution_count": 5,
      "metadata": {
        "colab": {
          "base_uri": "https://localhost:8080/"
        },
        "id": "NmqfAkyKJ0Yw",
        "outputId": "ea5c0b7f-956e-44d1-db96-1b4507a93baa"
      },
      "outputs": [
        {
          "name": "stdout",
          "output_type": "stream",
          "text": [
            "Requirement already satisfied: nnetsauce in ./venv/lib/python3.10/site-packages (0.20.1)\n",
            "Requirement already satisfied: openml in ./venv/lib/python3.10/site-packages (0.14.2)\n",
            "Requirement already satisfied: joblib in ./venv/lib/python3.10/site-packages (1.4.2)\n",
            "Requirement already satisfied: matplotlib in ./venv/lib/python3.10/site-packages (from nnetsauce) (3.8.4)\n",
            "Requirement already satisfied: numpy in ./venv/lib/python3.10/site-packages (from nnetsauce) (1.26.4)\n",
            "Requirement already satisfied: pandas in ./venv/lib/python3.10/site-packages (from nnetsauce) (2.2.2)\n",
            "Requirement already satisfied: requests in ./venv/lib/python3.10/site-packages (from nnetsauce) (2.31.0)\n",
            "Requirement already satisfied: scipy in ./venv/lib/python3.10/site-packages (from nnetsauce) (1.13.0)\n",
            "Requirement already satisfied: scikit-learn in ./venv/lib/python3.10/site-packages (from nnetsauce) (1.4.2)\n",
            "Requirement already satisfied: threadpoolctl in ./venv/lib/python3.10/site-packages (from nnetsauce) (3.5.0)\n",
            "Requirement already satisfied: tqdm in ./venv/lib/python3.10/site-packages (from nnetsauce) (4.66.4)\n",
            "Requirement already satisfied: jax in ./venv/lib/python3.10/site-packages (from nnetsauce) (0.4.27)\n",
            "Requirement already satisfied: jaxlib in ./venv/lib/python3.10/site-packages (from nnetsauce) (0.4.27)\n",
            "Requirement already satisfied: liac-arff>=2.4.0 in ./venv/lib/python3.10/site-packages (from openml) (2.5.0)\n",
            "Requirement already satisfied: xmltodict in ./venv/lib/python3.10/site-packages (from openml) (0.13.0)\n",
            "Requirement already satisfied: python-dateutil in ./venv/lib/python3.10/site-packages (from openml) (2.9.0.post0)\n",
            "Requirement already satisfied: minio in ./venv/lib/python3.10/site-packages (from openml) (7.2.7)\n",
            "Requirement already satisfied: pyarrow in ./venv/lib/python3.10/site-packages (from openml) (16.1.0)\n",
            "Requirement already satisfied: pytz>=2020.1 in ./venv/lib/python3.10/site-packages (from pandas->nnetsauce) (2024.1)\n",
            "Requirement already satisfied: tzdata>=2022.7 in ./venv/lib/python3.10/site-packages (from pandas->nnetsauce) (2024.1)\n",
            "Requirement already satisfied: six>=1.5 in ./venv/lib/python3.10/site-packages (from python-dateutil->openml) (1.16.0)\n",
            "Requirement already satisfied: ml-dtypes>=0.2.0 in ./venv/lib/python3.10/site-packages (from jax->nnetsauce) (0.4.0)\n",
            "Requirement already satisfied: opt-einsum in ./venv/lib/python3.10/site-packages (from jax->nnetsauce) (3.3.0)\n",
            "Requirement already satisfied: contourpy>=1.0.1 in ./venv/lib/python3.10/site-packages (from matplotlib->nnetsauce) (1.2.1)\n",
            "Requirement already satisfied: cycler>=0.10 in ./venv/lib/python3.10/site-packages (from matplotlib->nnetsauce) (0.12.1)\n",
            "Requirement already satisfied: fonttools>=4.22.0 in ./venv/lib/python3.10/site-packages (from matplotlib->nnetsauce) (4.51.0)\n",
            "Requirement already satisfied: kiwisolver>=1.3.1 in ./venv/lib/python3.10/site-packages (from matplotlib->nnetsauce) (1.4.5)\n",
            "Requirement already satisfied: packaging>=20.0 in ./venv/lib/python3.10/site-packages (from matplotlib->nnetsauce) (24.0)\n",
            "Requirement already satisfied: pillow>=8 in ./venv/lib/python3.10/site-packages (from matplotlib->nnetsauce) (10.3.0)\n",
            "Requirement already satisfied: pyparsing>=2.3.1 in ./venv/lib/python3.10/site-packages (from matplotlib->nnetsauce) (3.1.2)\n",
            "Requirement already satisfied: certifi in ./venv/lib/python3.10/site-packages (from minio->openml) (2024.2.2)\n",
            "Requirement already satisfied: urllib3 in ./venv/lib/python3.10/site-packages (from minio->openml) (2.2.1)\n",
            "Requirement already satisfied: argon2-cffi in ./venv/lib/python3.10/site-packages (from minio->openml) (23.1.0)\n",
            "Requirement already satisfied: pycryptodome in ./venv/lib/python3.10/site-packages (from minio->openml) (3.20.0)\n",
            "Requirement already satisfied: typing-extensions in ./venv/lib/python3.10/site-packages (from minio->openml) (4.11.0)\n",
            "Requirement already satisfied: charset-normalizer<4,>=2 in ./venv/lib/python3.10/site-packages (from requests->nnetsauce) (3.3.2)\n",
            "Requirement already satisfied: idna<4,>=2.5 in ./venv/lib/python3.10/site-packages (from requests->nnetsauce) (3.7)\n",
            "Requirement already satisfied: argon2-cffi-bindings in ./venv/lib/python3.10/site-packages (from argon2-cffi->minio->openml) (21.2.0)\n",
            "Requirement already satisfied: cffi>=1.0.1 in ./venv/lib/python3.10/site-packages (from argon2-cffi-bindings->argon2-cffi->minio->openml) (1.16.0)\n",
            "Requirement already satisfied: pycparser in ./venv/lib/python3.10/site-packages (from cffi>=1.0.1->argon2-cffi-bindings->argon2-cffi->minio->openml) (2.22)\n"
          ]
        }
      ],
      "source": [
        "!pip install nnetsauce openml joblib --upgrade --no-cache-dir"
      ]
    },
    {
      "cell_type": "code",
      "execution_count": 6,
      "metadata": {
        "id": "uWVjIly6RpQG"
      },
      "outputs": [],
      "source": [
        "import category_encoders as ce\n",
        "import joblib\n",
        "import nnetsauce as ns\n",
        "import numpy as np\n",
        "import openml\n",
        "import pandas as pd\n",
        "import warnings\n",
        "\n",
        "from sklearn.ensemble import RandomForestClassifier\n",
        "from sklearn.preprocessing import LabelEncoder\n",
        "from time import time\n",
        "from functools import lru_cache\n",
        "from tqdm import tqdm"
      ]
    },
    {
      "cell_type": "markdown",
      "metadata": {
        "id": "jhLN8DdgRfXl"
      },
      "source": [
        "# 1 Utility functions and global variables"
      ]
    },
    {
      "cell_type": "code",
      "execution_count": 7,
      "metadata": {
        "id": "OgeoUqTOSOW5"
      },
      "outputs": [],
      "source": [
        "NROWS = 1000\n",
        "NCOLS = 10"
      ]
    },
    {
      "cell_type": "code",
      "execution_count": 8,
      "metadata": {
        "id": "FHa0EazjRkah"
      },
      "outputs": [],
      "source": [
        "def select_NROWS_NCOLS(X, y):\n",
        "\n",
        "    def replace_nan_with_median(arr):\n",
        "      # Calculate the median of each column ignoring NaN values\n",
        "      median_vals = np.nanmedian(arr, axis=0)\n",
        "\n",
        "      # Iterate over each column index and replace NaN with the corresponding median value\n",
        "      for col_idx in range(arr.shape[1]):\n",
        "          col_values = arr[:, col_idx]\n",
        "          nan_indices = np.isnan(col_values)\n",
        "          if np.any(nan_indices):\n",
        "              col_values[nan_indices] = median_vals[col_idx]\n",
        "\n",
        "      return arr\n",
        "\n",
        "    print(f\"X.shape (initial): {X.shape}\")\n",
        "    print(f\"y.shape (initial): {y.shape}\")\n",
        "    print(\"Encoding features and response...\")\n",
        "    le = LabelEncoder()\n",
        "    encoder = ce.HashingEncoder(return_df=False)\n",
        "    X = np.asarray(encoder.fit_transform(X, y)).astype(np.float32)\n",
        "    X = replace_nan_with_median(X)\n",
        "    y = np.asarray(le.fit_transform(y)).astype(np.uint8)\n",
        "    print(\"...Done.\")\n",
        "    print(f\"Finding top {NCOLS} features if necessary...\")\n",
        "    if X.shape[1] > NCOLS:\n",
        "        rf = RandomForestClassifier(n_estimators=50, random_state=42)\n",
        "        rf.fit(X, y)\n",
        "        indices = np.argsort(rf.feature_importances_)[::-1]\n",
        "        top_cols = indices[:NCOLS]\n",
        "        print(f\"  top {NCOLS} indices: {top_cols}\")\n",
        "        X = X[:,top_cols]\n",
        "        print(f\"  X reduced shape: {X.shape}\")\n",
        "    print(\"...Done.\")\n",
        "    if X.shape[0] > NROWS:\n",
        "      print(f\"Subsampling to {NROWS} if necessary...\")\n",
        "      start = time()\n",
        "      sub = ns.SubSampler(y=y.ravel().astype(np.uint8),\n",
        "                          n_samples=NROWS, seed=123, n_jobs=-1)\n",
        "      idx_rows  = sub.subsample().ravel()\n",
        "      print(f\"... Elapsed time for subsampling: {time() - start}\")\n",
        "      print(\"Number of rows in the subsample: \", len(idx_rows))\n",
        "      return_X = replace_nan_with_median(X[idx_rows,:])\n",
        "      return_y = y[idx_rows].ravel().astype(np.uint8)\n",
        "      print(\"Done.\")\n",
        "      return return_X, return_y\n",
        "    else:\n",
        "      return X, y"
      ]
    },
    {
      "cell_type": "markdown",
      "metadata": {
        "id": "kVx2kV62Rb1I"
      },
      "source": [
        "# 2 - Get openml cc18 data"
      ]
    },
    {
      "cell_type": "code",
      "execution_count": 9,
      "metadata": {
        "colab": {
          "base_uri": "https://localhost:8080/"
        },
        "id": "NpO_jt5UJ_iT",
        "outputId": "93907bd2-8a67-4085-aaa7-6dca9f677493"
      },
      "outputs": [
        {
          "name": "stderr",
          "output_type": "stream",
          "text": [
            "0it [00:00, ?it/s]"
          ]
        },
        {
          "name": "stdout",
          "output_type": "stream",
          "text": [
            "\n",
            "\n",
            " task #0/72 --------------------\n",
            "X.shape (initial): (3196, 36)\n",
            "y.shape (initial): (3196,)\n",
            "Encoding features and response...\n",
            "Warning: No categorical columns found. Calling 'transform' will only return input data.\n",
            "...Done.\n",
            "Finding top 10 features if necessary...\n",
            "  top 10 indices: [20 32  9 14 34  5 31  7  0  6]\n",
            "  X reduced shape: (3196, 10)\n",
            "...Done.\n",
            "Subsampling to 1000 if necessary...\n"
          ]
        },
        {
          "name": "stderr",
          "output_type": "stream",
          "text": [
            "1it [00:01,  1.72s/it]"
          ]
        },
        {
          "name": "stdout",
          "output_type": "stream",
          "text": [
            "... Elapsed time for subsampling: 0.3489799499511719\n",
            "Number of rows in the subsample:  999\n",
            "Done.\n",
            "Elapsed time for task #0: 1.716198205947876\n",
            "\n",
            "\n",
            " task #1/72 --------------------\n",
            "X.shape (initial): (20000, 16)\n",
            "y.shape (initial): (20000,)\n",
            "Encoding features and response...\n",
            "Warning: No categorical columns found. Calling 'transform' will only return input data.\n",
            "...Done.\n",
            "Finding top 10 features if necessary...\n"
          ]
        },
        {
          "name": "stderr",
          "output_type": "stream",
          "text": [
            "2it [00:04,  2.56s/it]"
          ]
        },
        {
          "name": "stdout",
          "output_type": "stream",
          "text": [
            "  top 10 indices: [12 14  8 11  7 10 13  9  6 15]\n",
            "  X reduced shape: (20000, 10)\n",
            "...Done.\n",
            "Subsampling to 1000 if necessary...\n",
            "... Elapsed time for subsampling: 0.04304075241088867\n",
            "Number of rows in the subsample:  987\n",
            "Done.\n",
            "Elapsed time for task #1: 3.1403844356536865\n",
            "\n",
            "\n",
            " task #2/72 --------------------\n"
          ]
        },
        {
          "name": "stderr",
          "output_type": "stream",
          "text": [
            "3it [00:05,  1.90s/it]"
          ]
        },
        {
          "name": "stdout",
          "output_type": "stream",
          "text": [
            "X.shape (initial): (625, 4)\n",
            "y.shape (initial): (625,)\n",
            "Encoding features and response...\n",
            "Warning: No categorical columns found. Calling 'transform' will only return input data.\n",
            "...Done.\n",
            "Finding top 10 features if necessary...\n",
            "...Done.\n",
            "Elapsed time for task #2: 1.1272993087768555\n",
            "\n",
            "\n",
            " task #3/72 --------------------\n",
            "X.shape (initial): (2000, 216)\n",
            "y.shape (initial): (2000,)\n",
            "Encoding features and response...\n",
            "Warning: No categorical columns found. Calling 'transform' will only return input data.\n",
            "...Done.\n",
            "Finding top 10 features if necessary...\n"
          ]
        },
        {
          "name": "stderr",
          "output_type": "stream",
          "text": [
            "4it [00:09,  2.35s/it]"
          ]
        },
        {
          "name": "stdout",
          "output_type": "stream",
          "text": [
            "  top 10 indices: [185 211 180  96   7 184 197  28   0 145]\n",
            "  X reduced shape: (2000, 10)\n",
            "...Done.\n",
            "Subsampling to 1000 if necessary...\n",
            "... Elapsed time for subsampling: 0.023698806762695312\n",
            "Number of rows in the subsample:  1000\n",
            "Done.\n",
            "Elapsed time for task #3: 3.0318500995635986\n",
            "\n",
            "\n",
            " task #4/72 --------------------\n",
            "X.shape (initial): (2000, 76)\n",
            "y.shape (initial): (2000,)\n",
            "Encoding features and response...\n",
            "Warning: No categorical columns found. Calling 'transform' will only return input data.\n",
            "...Done.\n",
            "Finding top 10 features if necessary...\n"
          ]
        },
        {
          "name": "stderr",
          "output_type": "stream",
          "text": [
            "5it [00:10,  2.15s/it]"
          ]
        },
        {
          "name": "stdout",
          "output_type": "stream",
          "text": [
            "  top 10 indices: [ 1  6 72 75  5 73  0  4  2  8]\n",
            "  X reduced shape: (2000, 10)\n",
            "...Done.\n",
            "Subsampling to 1000 if necessary...\n",
            "... Elapsed time for subsampling: 0.03317546844482422\n",
            "Number of rows in the subsample:  1000\n",
            "Done.\n",
            "Elapsed time for task #4: 1.7827410697937012\n",
            "\n",
            "\n",
            " task #5/72 --------------------\n"
          ]
        },
        {
          "name": "stderr",
          "output_type": "stream",
          "text": [
            "6it [00:11,  1.68s/it]"
          ]
        },
        {
          "name": "stdout",
          "output_type": "stream",
          "text": [
            "X.shape (initial): (699, 9)\n",
            "y.shape (initial): (699,)\n",
            "Encoding features and response...\n",
            "Warning: No categorical columns found. Calling 'transform' will only return input data.\n",
            "...Done.\n",
            "Finding top 10 features if necessary...\n",
            "...Done.\n",
            "Elapsed time for task #5: 0.7847929000854492\n",
            "\n",
            "\n",
            " task #6/72 --------------------\n",
            "X.shape (initial): (2000, 64)\n",
            "y.shape (initial): (2000,)\n",
            "Encoding features and response...\n",
            "Warning: No categorical columns found. Calling 'transform' will only return input data.\n",
            "...Done.\n",
            "Finding top 10 features if necessary...\n"
          ]
        },
        {
          "name": "stderr",
          "output_type": "stream",
          "text": [
            "7it [00:13,  1.77s/it]"
          ]
        },
        {
          "name": "stdout",
          "output_type": "stream",
          "text": [
            "  top 10 indices: [ 0  2  1  3  4  9 10 20  8  6]\n",
            "  X reduced shape: (2000, 10)\n",
            "...Done.\n",
            "Subsampling to 1000 if necessary...\n",
            "... Elapsed time for subsampling: 0.033721208572387695\n",
            "Number of rows in the subsample:  1000\n",
            "Done.\n",
            "Elapsed time for task #6: 1.9545674324035645\n",
            "\n",
            "\n",
            " task #7/72 --------------------\n"
          ]
        },
        {
          "name": "stderr",
          "output_type": "stream",
          "text": [
            "8it [00:15,  1.96s/it]"
          ]
        },
        {
          "name": "stdout",
          "output_type": "stream",
          "text": [
            "X.shape (initial): (2000, 6)\n",
            "y.shape (initial): (2000,)\n",
            "Encoding features and response...\n",
            "Warning: No categorical columns found. Calling 'transform' will only return input data.\n",
            "...Done.\n",
            "Finding top 10 features if necessary...\n",
            "...Done.\n",
            "Subsampling to 1000 if necessary...\n",
            "... Elapsed time for subsampling: 0.02405834197998047\n",
            "Number of rows in the subsample:  1000\n",
            "Done.\n",
            "Elapsed time for task #7: 2.3591530323028564\n",
            "\n",
            "\n",
            " task #8/72 --------------------\n",
            "X.shape (initial): (2000, 47)\n",
            "y.shape (initial): (2000,)\n",
            "Encoding features and response...\n",
            "Warning: No categorical columns found. Calling 'transform' will only return input data.\n",
            "...Done.\n",
            "Finding top 10 features if necessary...\n"
          ]
        },
        {
          "name": "stderr",
          "output_type": "stream",
          "text": [
            "9it [00:17,  1.92s/it]"
          ]
        },
        {
          "name": "stdout",
          "output_type": "stream",
          "text": [
            "  top 10 indices: [18 28 42  5 44 39 45 41 36 27]\n",
            "  X reduced shape: (2000, 10)\n",
            "...Done.\n",
            "Subsampling to 1000 if necessary...\n",
            "... Elapsed time for subsampling: 0.023369550704956055\n",
            "Number of rows in the subsample:  1000\n",
            "Done.\n",
            "Elapsed time for task #8: 1.832855463027954\n",
            "\n",
            "\n",
            " task #9/72 --------------------\n"
          ]
        },
        {
          "name": "stderr",
          "output_type": "stream",
          "text": [
            "10it [00:19,  1.76s/it]"
          ]
        },
        {
          "name": "stdout",
          "output_type": "stream",
          "text": [
            "X.shape (initial): (1473, 9)\n",
            "y.shape (initial): (1473,)\n",
            "Encoding features and response...\n",
            "Warning: No categorical columns found. Calling 'transform' will only return input data.\n",
            "...Done.\n",
            "Finding top 10 features if necessary...\n",
            "...Done.\n",
            "Subsampling to 1000 if necessary...\n",
            "... Elapsed time for subsampling: 0.022966623306274414\n",
            "Number of rows in the subsample:  1000\n",
            "Done.\n",
            "Elapsed time for task #9: 1.4137580394744873\n",
            "\n",
            "\n",
            " task #10/72 --------------------\n",
            "X.shape (initial): (5620, 64)\n",
            "y.shape (initial): (5620,)\n",
            "Encoding features and response...\n",
            "Warning: No categorical columns found. Calling 'transform' will only return input data.\n",
            "...Done.\n",
            "Finding top 10 features if necessary...\n"
          ]
        },
        {
          "name": "stderr",
          "output_type": "stream",
          "text": [
            "11it [00:21,  1.95s/it]"
          ]
        },
        {
          "name": "stdout",
          "output_type": "stream",
          "text": [
            "  top 10 indices: [21 42 36 43 26 19 20 28 30 18]\n",
            "  X reduced shape: (5620, 10)\n",
            "...Done.\n",
            "Subsampling to 1000 if necessary...\n",
            "... Elapsed time for subsampling: 0.03519797325134277\n",
            "Number of rows in the subsample:  996\n",
            "Done.\n",
            "Elapsed time for task #10: 2.3790433406829834\n",
            "\n",
            "\n",
            " task #11/72 --------------------\n"
          ]
        },
        {
          "name": "stderr",
          "output_type": "stream",
          "text": [
            "12it [00:22,  1.59s/it]"
          ]
        },
        {
          "name": "stdout",
          "output_type": "stream",
          "text": [
            "X.shape (initial): (690, 15)\n",
            "y.shape (initial): (690,)\n",
            "Encoding features and response...\n",
            "Warning: No categorical columns found. Calling 'transform' will only return input data.\n",
            "...Done.\n",
            "Finding top 10 features if necessary...\n",
            "  top 10 indices: [ 8  7 14 10  2  1 13  9  5  6]\n",
            "  X reduced shape: (690, 10)\n",
            "...Done.\n",
            "Elapsed time for task #11: 0.7600455284118652\n",
            "\n",
            "\n",
            " task #12/72 --------------------\n"
          ]
        },
        {
          "name": "stderr",
          "output_type": "stream",
          "text": [
            "13it [00:23,  1.36s/it]"
          ]
        },
        {
          "name": "stdout",
          "output_type": "stream",
          "text": [
            "X.shape (initial): (1000, 20)\n",
            "y.shape (initial): (1000,)\n",
            "Encoding features and response...\n",
            "Warning: No categorical columns found. Calling 'transform' will only return input data.\n",
            "...Done.\n",
            "Finding top 10 features if necessary...\n",
            "  top 10 indices: [ 4  0 12  1  3  2  6  5  7 11]\n",
            "  X reduced shape: (1000, 10)\n",
            "...Done.\n",
            "Elapsed time for task #12: 0.8299944400787354\n",
            "\n",
            "\n",
            " task #13/72 --------------------\n",
            "X.shape (initial): (10992, 16)\n",
            "y.shape (initial): (10992,)\n",
            "Encoding features and response...\n",
            "Warning: No categorical columns found. Calling 'transform' will only return input data.\n",
            "...Done.\n",
            "Finding top 10 features if necessary...\n"
          ]
        },
        {
          "name": "stderr",
          "output_type": "stream",
          "text": [
            "14it [00:25,  1.60s/it]"
          ]
        },
        {
          "name": "stdout",
          "output_type": "stream",
          "text": [
            "  top 10 indices: [15 13 10  4  9 14  1  8  7  0]\n",
            "  X reduced shape: (10992, 10)\n",
            "...Done.\n",
            "Subsampling to 1000 if necessary...\n",
            "... Elapsed time for subsampling: 0.03728747367858887\n",
            "Number of rows in the subsample:  993\n",
            "Done.\n",
            "Elapsed time for task #13: 2.162907361984253\n",
            "\n",
            "\n",
            " task #14/72 --------------------\n"
          ]
        },
        {
          "name": "stderr",
          "output_type": "stream",
          "text": [
            "15it [00:25,  1.33s/it]"
          ]
        },
        {
          "name": "stdout",
          "output_type": "stream",
          "text": [
            "X.shape (initial): (768, 8)\n",
            "y.shape (initial): (768,)\n",
            "Encoding features and response...\n",
            "Warning: No categorical columns found. Calling 'transform' will only return input data.\n",
            "...Done.\n",
            "Finding top 10 features if necessary...\n",
            "...Done.\n",
            "Elapsed time for task #14: 0.6871469020843506\n",
            "\n",
            "\n",
            " task #15/72 --------------------\n",
            "X.shape (initial): (4601, 57)\n",
            "y.shape (initial): (4601,)\n",
            "Encoding features and response...\n",
            "Warning: No categorical columns found. Calling 'transform' will only return input data.\n",
            "...Done.\n",
            "Finding top 10 features if necessary...\n"
          ]
        },
        {
          "name": "stderr",
          "output_type": "stream",
          "text": [
            "16it [00:27,  1.34s/it]"
          ]
        },
        {
          "name": "stdout",
          "output_type": "stream",
          "text": [
            "  top 10 indices: [51 52  6 55 15 56 54 24 20 18]\n",
            "  X reduced shape: (4601, 10)\n",
            "...Done.\n",
            "Subsampling to 1000 if necessary...\n",
            "... Elapsed time for subsampling: 0.023447036743164062\n",
            "Number of rows in the subsample:  999\n",
            "Done.\n",
            "Elapsed time for task #15: 1.3772311210632324\n",
            "\n",
            "\n",
            " task #16/72 --------------------\n",
            "X.shape (initial): (3190, 60)\n",
            "y.shape (initial): (3190,)\n",
            "Encoding features and response...\n",
            "Warning: No categorical columns found. Calling 'transform' will only return input data.\n",
            "...Done.\n",
            "Finding top 10 features if necessary...\n",
            "  top 10 indices: [29 28 31 30 34 27 32 25 33 18]\n",
            "  X reduced shape: (3190, 10)\n",
            "...Done.\n",
            "Subsampling to 1000 if necessary...\n"
          ]
        },
        {
          "name": "stderr",
          "output_type": "stream",
          "text": [
            "17it [00:30,  1.77s/it]"
          ]
        },
        {
          "name": "stdout",
          "output_type": "stream",
          "text": [
            "... Elapsed time for subsampling: 0.023273944854736328\n",
            "Number of rows in the subsample:  999\n",
            "Done.\n",
            "Elapsed time for task #16: 2.7652134895324707\n",
            "\n",
            "\n",
            " task #17/72 --------------------\n"
          ]
        },
        {
          "name": "stderr",
          "output_type": "stream",
          "text": [
            "18it [00:30,  1.45s/it]"
          ]
        },
        {
          "name": "stdout",
          "output_type": "stream",
          "text": [
            "X.shape (initial): (958, 9)\n",
            "y.shape (initial): (958,)\n",
            "Encoding features and response...\n",
            "Warning: No categorical columns found. Calling 'transform' will only return input data.\n",
            "...Done.\n",
            "Finding top 10 features if necessary...\n",
            "...Done.\n",
            "Elapsed time for task #17: 0.7096312046051025\n",
            "\n",
            "\n",
            " task #18/72 --------------------\n"
          ]
        },
        {
          "name": "stderr",
          "output_type": "stream",
          "text": [
            "19it [00:31,  1.25s/it]"
          ]
        },
        {
          "name": "stdout",
          "output_type": "stream",
          "text": [
            "X.shape (initial): (846, 18)\n",
            "y.shape (initial): (846,)\n",
            "Encoding features and response...\n",
            "Warning: No categorical columns found. Calling 'transform' will only return input data.\n",
            "...Done.\n",
            "Finding top 10 features if necessary...\n",
            "  top 10 indices: [ 5 11  9  7 10  6  2  4 17  0]\n",
            "  X reduced shape: (846, 10)\n",
            "...Done.\n",
            "Elapsed time for task #18: 0.7935891151428223\n",
            "\n",
            "\n",
            " task #19/72 --------------------\n"
          ]
        },
        {
          "name": "stderr",
          "output_type": "stream",
          "text": [
            "20it [00:34,  1.80s/it]"
          ]
        },
        {
          "name": "stdout",
          "output_type": "stream",
          "text": [
            "X.shape (initial): (45312, 8)\n",
            "y.shape (initial): (45312,)\n",
            "Encoding features and response...\n",
            "Warning: No categorical columns found. Calling 'transform' will only return input data.\n",
            "...Done.\n",
            "Finding top 10 features if necessary...\n",
            "...Done.\n",
            "Subsampling to 1000 if necessary...\n",
            "... Elapsed time for subsampling: 0.03491473197937012\n",
            "Number of rows in the subsample:  1000\n",
            "Done.\n",
            "Elapsed time for task #19: 3.0857653617858887\n",
            "\n",
            "\n",
            " task #20/72 --------------------\n",
            "X.shape (initial): (6430, 36)\n",
            "y.shape (initial): (6430,)\n",
            "Encoding features and response...\n",
            "Warning: No categorical columns found. Calling 'transform' will only return input data.\n",
            "...Done.\n",
            "Finding top 10 features if necessary...\n"
          ]
        },
        {
          "name": "stderr",
          "output_type": "stream",
          "text": [
            "21it [00:36,  1.86s/it]"
          ]
        },
        {
          "name": "stdout",
          "output_type": "stream",
          "text": [
            "  top 10 indices: [17 16 19 20 21 28 12 13 27 32]\n",
            "  X reduced shape: (6430, 10)\n",
            "...Done.\n",
            "Subsampling to 1000 if necessary...\n",
            "... Elapsed time for subsampling: 0.02463054656982422\n",
            "Number of rows in the subsample:  997\n",
            "Done.\n",
            "Elapsed time for task #20: 1.9748656749725342\n",
            "\n",
            "\n",
            " task #21/72 --------------------\n"
          ]
        },
        {
          "name": "stderr",
          "output_type": "stream",
          "text": [
            "22it [00:37,  1.60s/it]"
          ]
        },
        {
          "name": "stdout",
          "output_type": "stream",
          "text": [
            "X.shape (initial): (736, 19)\n",
            "y.shape (initial): (736,)\n",
            "Encoding features and response...\n",
            "Warning: No categorical columns found. Calling 'transform' will only return input data.\n",
            "...Done.\n",
            "Finding top 10 features if necessary...\n",
            "  top 10 indices: [14 12 11 13 10 17 16  0 15  9]\n",
            "  X reduced shape: (736, 10)\n",
            "...Done.\n",
            "Elapsed time for task #21: 1.00333571434021\n",
            "\n",
            "\n",
            " task #22/72 --------------------\n"
          ]
        },
        {
          "name": "stderr",
          "output_type": "stream",
          "text": [
            "23it [00:38,  1.42s/it]"
          ]
        },
        {
          "name": "stdout",
          "output_type": "stream",
          "text": [
            "X.shape (initial): (3772, 29)\n",
            "y.shape (initial): (3772,)\n",
            "Encoding features and response...\n",
            "Warning: No categorical columns found. Calling 'transform' will only return input data.\n",
            "...Done.\n",
            "Finding top 10 features if necessary...\n",
            "  top 10 indices: [19 25 21 23 17 28  0 18  5  2]\n",
            "  X reduced shape: (3772, 10)\n",
            "...Done.\n",
            "Subsampling to 1000 if necessary...\n",
            "... Elapsed time for subsampling: 0.02335524559020996\n",
            "Number of rows in the subsample:  999\n",
            "Done.\n",
            "Elapsed time for task #22: 1.0075037479400635\n",
            "\n",
            "\n",
            " task #23/72 --------------------\n"
          ]
        },
        {
          "name": "stderr",
          "output_type": "stream",
          "text": [
            "24it [00:39,  1.33s/it]"
          ]
        },
        {
          "name": "stdout",
          "output_type": "stream",
          "text": [
            "X.shape (initial): (990, 12)\n",
            "y.shape (initial): (990,)\n",
            "Encoding features and response...\n",
            "Warning: No categorical columns found. Calling 'transform' will only return input data.\n",
            "...Done.\n",
            "Finding top 10 features if necessary...\n",
            "  top 10 indices: [ 2  3  6  5  4  7  9 11 10  8]\n",
            "  X reduced shape: (990, 10)\n",
            "...Done.\n",
            "Elapsed time for task #23: 1.1107244491577148\n",
            "\n",
            "\n",
            " task #24/72 --------------------\n",
            "X.shape (initial): (7797, 617)\n",
            "y.shape (initial): (7797,)\n",
            "Encoding features and response...\n",
            "Warning: No categorical columns found. Calling 'transform' will only return input data.\n",
            "...Done.\n",
            "Finding top 10 features if necessary...\n"
          ]
        },
        {
          "name": "stderr",
          "output_type": "stream",
          "text": [
            "25it [00:56,  5.83s/it]"
          ]
        },
        {
          "name": "stdout",
          "output_type": "stream",
          "text": [
            "  top 10 indices: [393 394 412 461 583 411 418 396 361 395]\n",
            "  X reduced shape: (7797, 10)\n",
            "...Done.\n",
            "Subsampling to 1000 if necessary...\n",
            "... Elapsed time for subsampling: 0.03521561622619629\n",
            "Number of rows in the subsample:  988\n",
            "Done.\n",
            "Elapsed time for task #24: 16.31846857070923\n",
            "\n",
            "\n",
            " task #25/72 --------------------\n"
          ]
        },
        {
          "name": "stderr",
          "output_type": "stream",
          "text": [
            "26it [00:57,  4.42s/it]"
          ]
        },
        {
          "name": "stdout",
          "output_type": "stream",
          "text": [
            "X.shape (initial): (841, 70)\n",
            "y.shape (initial): (841,)\n",
            "Encoding features and response...\n",
            "Warning: No categorical columns found. Calling 'transform' will only return input data.\n",
            "...Done.\n",
            "Finding top 10 features if necessary...\n",
            "  top 10 indices: [ 9 59 50 23 56 36 20  5 34 28]\n",
            "  X reduced shape: (841, 10)\n",
            "...Done.\n",
            "Elapsed time for task #25: 1.1220920085906982\n",
            "\n",
            "\n",
            " task #26/72 --------------------\n"
          ]
        },
        {
          "name": "stderr",
          "output_type": "stream",
          "text": [
            "27it [00:58,  3.37s/it]"
          ]
        },
        {
          "name": "stdout",
          "output_type": "stream",
          "text": [
            "X.shape (initial): (797, 4)\n",
            "y.shape (initial): (797,)\n",
            "Encoding features and response...\n",
            "Warning: No categorical columns found. Calling 'transform' will only return input data.\n",
            "...Done.\n",
            "Finding top 10 features if necessary...\n",
            "...Done.\n",
            "Elapsed time for task #26: 0.9328291416168213\n",
            "\n",
            "\n",
            " task #27/72 --------------------\n",
            "X.shape (initial): (70000, 784)\n",
            "y.shape (initial): (70000,)\n",
            "Encoding features and response...\n",
            "Warning: No categorical columns found. Calling 'transform' will only return input data.\n",
            "...Done.\n",
            "Finding top 10 features if necessary...\n"
          ]
        },
        {
          "name": "stderr",
          "output_type": "stream",
          "text": [
            "28it [01:31, 12.28s/it]"
          ]
        },
        {
          "name": "stdout",
          "output_type": "stream",
          "text": [
            "  top 10 indices: [378 433 437 350 409 489 543 155 318 405]\n",
            "  X reduced shape: (70000, 10)\n",
            "...Done.\n",
            "Subsampling to 1000 if necessary...\n",
            "... Elapsed time for subsampling: 0.05359172821044922\n",
            "Number of rows in the subsample:  996\n",
            "Done.\n",
            "Elapsed time for task #27: 33.056612730026245\n",
            "\n",
            "\n",
            " task #28/72 --------------------\n"
          ]
        },
        {
          "name": "stderr",
          "output_type": "stream",
          "text": [
            "29it [01:32,  8.92s/it]"
          ]
        },
        {
          "name": "stdout",
          "output_type": "stream",
          "text": [
            "X.shape (initial): (1458, 37)\n",
            "y.shape (initial): (1458,)\n",
            "Encoding features and response...\n",
            "Warning: No categorical columns found. Calling 'transform' will only return input data.\n",
            "...Done.\n",
            "Finding top 10 features if necessary...\n",
            "  top 10 indices: [ 3 35  7  4  0 17  5 18 34 29]\n",
            "  X reduced shape: (1458, 10)\n",
            "...Done.\n",
            "Subsampling to 1000 if necessary...\n",
            "... Elapsed time for subsampling: 0.022443294525146484\n",
            "Number of rows in the subsample:  999\n",
            "Done.\n",
            "Elapsed time for task #28: 1.0998406410217285\n",
            "\n",
            "\n",
            " task #29/72 --------------------\n"
          ]
        },
        {
          "name": "stderr",
          "output_type": "stream",
          "text": [
            "30it [01:33,  6.62s/it]"
          ]
        },
        {
          "name": "stdout",
          "output_type": "stream",
          "text": [
            "X.shape (initial): (1563, 37)\n",
            "y.shape (initial): (1563,)\n",
            "Encoding features and response...\n",
            "Warning: No categorical columns found. Calling 'transform' will only return input data.\n",
            "...Done.\n",
            "Finding top 10 features if necessary...\n",
            "  top 10 indices: [ 0 34 17 35 32 19 24 21  4 18]\n",
            "  X reduced shape: (1563, 10)\n",
            "...Done.\n",
            "Subsampling to 1000 if necessary...\n",
            "... Elapsed time for subsampling: 0.022283315658569336\n",
            "Number of rows in the subsample:  999\n",
            "Done.\n",
            "Elapsed time for task #29: 1.2473511695861816\n",
            "\n",
            "\n",
            " task #30/72 --------------------\n",
            "X.shape (initial): (10885, 21)\n",
            "y.shape (initial): (10885,)\n",
            "Encoding features and response...\n",
            "Warning: No categorical columns found. Calling 'transform' will only return input data.\n",
            "...Done.\n",
            "Finding top 10 features if necessary...\n"
          ]
        },
        {
          "name": "stderr",
          "output_type": "stream",
          "text": [
            "31it [01:36,  5.45s/it]"
          ]
        },
        {
          "name": "stdout",
          "output_type": "stream",
          "text": [
            "  top 10 indices: [ 0  8  5  3  9 11 12 20  7 18]\n",
            "  X reduced shape: (10885, 10)\n",
            "...Done.\n",
            "Subsampling to 1000 if necessary...\n",
            "... Elapsed time for subsampling: 0.025152921676635742\n",
            "Number of rows in the subsample:  999\n",
            "Done.\n",
            "Elapsed time for task #30: 2.7316460609436035\n",
            "\n",
            "\n",
            " task #31/72 --------------------\n"
          ]
        },
        {
          "name": "stderr",
          "output_type": "stream",
          "text": [
            "32it [01:37,  4.09s/it]"
          ]
        },
        {
          "name": "stdout",
          "output_type": "stream",
          "text": [
            "X.shape (initial): (522, 21)\n",
            "y.shape (initial): (522,)\n",
            "Encoding features and response...\n",
            "Warning: No categorical columns found. Calling 'transform' will only return input data.\n",
            "...Done.\n",
            "Finding top 10 features if necessary...\n",
            "  top 10 indices: [ 0 19 18  5 17  4 14  8 12  7]\n",
            "  X reduced shape: (522, 10)\n",
            "...Done.\n",
            "Elapsed time for task #31: 0.9059920310974121\n",
            "\n",
            "\n",
            " task #32/72 --------------------\n"
          ]
        },
        {
          "name": "stderr",
          "output_type": "stream",
          "text": [
            "33it [01:38,  3.19s/it]"
          ]
        },
        {
          "name": "stdout",
          "output_type": "stream",
          "text": [
            "X.shape (initial): (2109, 21)\n",
            "y.shape (initial): (2109,)\n",
            "Encoding features and response...\n",
            "Warning: No categorical columns found. Calling 'transform' will only return input data.\n",
            "...Done.\n",
            "Finding top 10 features if necessary...\n",
            "  top 10 indices: [ 0  5  4  7  9  8 18 19 12 11]\n",
            "  X reduced shape: (2109, 10)\n",
            "...Done.\n",
            "Subsampling to 1000 if necessary...\n",
            "... Elapsed time for subsampling: 0.022785186767578125\n",
            "Number of rows in the subsample:  999\n",
            "Done.\n",
            "Elapsed time for task #32: 1.0794663429260254\n",
            "\n",
            "\n",
            " task #33/72 --------------------\n"
          ]
        },
        {
          "name": "stderr",
          "output_type": "stream",
          "text": [
            "34it [01:39,  2.52s/it]"
          ]
        },
        {
          "name": "stdout",
          "output_type": "stream",
          "text": [
            "X.shape (initial): (1109, 21)\n",
            "y.shape (initial): (1109,)\n",
            "Encoding features and response...\n",
            "Warning: No categorical columns found. Calling 'transform' will only return input data.\n",
            "...Done.\n",
            "Finding top 10 features if necessary...\n",
            "  top 10 indices: [13  8 15 14  5 17 12  4 11  0]\n",
            "  X reduced shape: (1109, 10)\n",
            "...Done.\n",
            "Subsampling to 1000 if necessary...\n",
            "... Elapsed time for subsampling: 0.022216796875\n",
            "Number of rows in the subsample:  999\n",
            "Done.\n",
            "Elapsed time for task #33: 0.9475643634796143\n",
            "\n",
            "\n",
            " task #34/72 --------------------\n",
            "X.shape (initial): (48842, 14)\n",
            "y.shape (initial): (48842,)\n",
            "Encoding features and response...\n",
            "Warning: No categorical columns found. Calling 'transform' will only return input data.\n",
            "...Done.\n",
            "Finding top 10 features if necessary...\n"
          ]
        },
        {
          "name": "stderr",
          "output_type": "stream",
          "text": [
            "35it [01:46,  3.85s/it]"
          ]
        },
        {
          "name": "stdout",
          "output_type": "stream",
          "text": [
            "  top 10 indices: [ 2  0  5 10  4 12  6  7 11  3]\n",
            "  X reduced shape: (48842, 10)\n",
            "...Done.\n",
            "Subsampling to 1000 if necessary...\n",
            "... Elapsed time for subsampling: 0.035808563232421875\n",
            "Number of rows in the subsample:  999\n",
            "Done.\n",
            "Elapsed time for task #34: 6.947858095169067\n",
            "\n",
            "\n",
            " task #35/72 --------------------\n",
            "X.shape (initial): (3751, 1776)\n",
            "y.shape (initial): (3751,)\n",
            "Encoding features and response...\n",
            "Warning: No categorical columns found. Calling 'transform' will only return input data.\n",
            "...Done.\n",
            "Finding top 10 features if necessary...\n"
          ]
        },
        {
          "name": "stderr",
          "output_type": "stream",
          "text": [
            "36it [01:52,  4.44s/it]"
          ]
        },
        {
          "name": "stdout",
          "output_type": "stream",
          "text": [
            "  top 10 indices: [ 26 105 468  19 106   6   4  13  16   8]\n",
            "  X reduced shape: (3751, 10)\n",
            "...Done.\n",
            "Subsampling to 1000 if necessary...\n",
            "... Elapsed time for subsampling: 0.02300882339477539\n",
            "Number of rows in the subsample:  999\n",
            "Done.\n",
            "Elapsed time for task #35: 5.817915916442871\n",
            "\n",
            "\n",
            " task #36/72 --------------------\n"
          ]
        },
        {
          "name": "stderr",
          "output_type": "stream",
          "text": [
            "37it [01:54,  3.73s/it]"
          ]
        },
        {
          "name": "stdout",
          "output_type": "stream",
          "text": [
            "X.shape (initial): (569, 30)\n",
            "y.shape (initial): (569,)\n",
            "Encoding features and response...\n",
            "Warning: No categorical columns found. Calling 'transform' will only return input data.\n",
            "...Done.\n",
            "Finding top 10 features if necessary...\n",
            "  top 10 indices: [27  7 20 22  6  2 23  3 26  0]\n",
            "  X reduced shape: (569, 10)\n",
            "...Done.\n",
            "Elapsed time for task #36: 2.0765492916107178\n",
            "\n",
            "\n",
            " task #37/72 --------------------\n"
          ]
        },
        {
          "name": "stderr",
          "output_type": "stream",
          "text": [
            "38it [01:55,  3.01s/it]"
          ]
        },
        {
          "name": "stdout",
          "output_type": "stream",
          "text": [
            "X.shape (initial): (5404, 5)\n",
            "y.shape (initial): (5404,)\n",
            "Encoding features and response...\n",
            "Warning: No categorical columns found. Calling 'transform' will only return input data.\n",
            "...Done.\n",
            "Finding top 10 features if necessary...\n",
            "...Done.\n",
            "Subsampling to 1000 if necessary...\n",
            "... Elapsed time for subsampling: 0.023593902587890625\n",
            "Number of rows in the subsample:  999\n",
            "Done.\n",
            "Elapsed time for task #37: 1.3433442115783691\n",
            "\n",
            "\n",
            " task #38/72 --------------------\n"
          ]
        },
        {
          "name": "stderr",
          "output_type": "stream",
          "text": [
            "39it [02:03,  4.44s/it]"
          ]
        },
        {
          "name": "stdout",
          "output_type": "stream",
          "text": [
            "X.shape (initial): (1055, 41)\n",
            "y.shape (initial): (1055,)\n",
            "Encoding features and response...\n",
            "Warning: No categorical columns found. Calling 'transform' will only return input data.\n",
            "...Done.\n",
            "Finding top 10 features if necessary...\n",
            "  top 10 indices: [35  0 21 26 38 14 12 11  1 17]\n",
            "  X reduced shape: (1055, 10)\n",
            "...Done.\n",
            "Subsampling to 1000 if necessary...\n",
            "... Elapsed time for subsampling: 0.022336244583129883\n",
            "Number of rows in the subsample:  999\n",
            "Done.\n",
            "Elapsed time for task #38: 7.757649660110474\n",
            "\n",
            "\n",
            " task #39/72 --------------------\n",
            "X.shape (initial): (5456, 24)\n",
            "y.shape (initial): (5456,)\n",
            "Encoding features and response...\n",
            "Warning: No categorical columns found. Calling 'transform' will only return input data.\n",
            "...Done.\n",
            "Finding top 10 features if necessary...\n"
          ]
        },
        {
          "name": "stderr",
          "output_type": "stream",
          "text": [
            "40it [02:14,  6.52s/it]"
          ]
        },
        {
          "name": "stdout",
          "output_type": "stream",
          "text": [
            "  top 10 indices: [14 19 18 13 17 12 11 16 23 10]\n",
            "  X reduced shape: (5456, 10)\n",
            "...Done.\n",
            "Subsampling to 1000 if necessary...\n",
            "... Elapsed time for subsampling: 0.023965835571289062\n",
            "Number of rows in the subsample:  999\n",
            "Done.\n",
            "Elapsed time for task #39: 11.372346639633179\n",
            "\n",
            "\n",
            " task #40/72 --------------------\n"
          ]
        },
        {
          "name": "stderr",
          "output_type": "stream",
          "text": [
            "41it [02:31,  9.67s/it]"
          ]
        },
        {
          "name": "stdout",
          "output_type": "stream",
          "text": [
            "X.shape (initial): (1593, 256)\n",
            "y.shape (initial): (1593,)\n",
            "Encoding features and response...\n",
            "Warning: No categorical columns found. Calling 'transform' will only return input data.\n",
            "...Done.\n",
            "Finding top 10 features if necessary...\n",
            "  top 10 indices: [177 161  62 127  46 145  78  81 176 128]\n",
            "  X reduced shape: (1593, 10)\n",
            "...Done.\n",
            "Subsampling to 1000 if necessary...\n",
            "... Elapsed time for subsampling: 0.022874116897583008\n",
            "Number of rows in the subsample:  996\n",
            "Done.\n",
            "Elapsed time for task #40: 17.01414918899536\n",
            "\n",
            "\n",
            " task #41/72 --------------------\n"
          ]
        },
        {
          "name": "stderr",
          "output_type": "stream",
          "text": [
            "42it [02:36,  8.13s/it]"
          ]
        },
        {
          "name": "stdout",
          "output_type": "stream",
          "text": [
            "X.shape (initial): (583, 10)\n",
            "y.shape (initial): (583,)\n",
            "Encoding features and response...\n",
            "Warning: No categorical columns found. Calling 'transform' will only return input data.\n",
            "...Done.\n",
            "Finding top 10 features if necessary...\n",
            "...Done.\n",
            "Elapsed time for task #41: 4.5540666580200195\n",
            "\n",
            "\n",
            " task #42/72 --------------------\n",
            "X.shape (initial): (2600, 500)\n",
            "y.shape (initial): (2600,)\n",
            "Encoding features and response...\n",
            "Warning: No categorical columns found. Calling 'transform' will only return input data.\n",
            "...Done.\n",
            "Finding top 10 features if necessary...\n"
          ]
        },
        {
          "name": "stderr",
          "output_type": "stream",
          "text": [
            "43it [02:55, 11.53s/it]"
          ]
        },
        {
          "name": "stdout",
          "output_type": "stream",
          "text": [
            "  top 10 indices: [338 475 241 105 472 442 128 336 453  48]\n",
            "  X reduced shape: (2600, 10)\n",
            "...Done.\n",
            "Subsampling to 1000 if necessary...\n",
            "... Elapsed time for subsampling: 0.023008346557617188\n",
            "Number of rows in the subsample:  1000\n",
            "Done.\n",
            "Elapsed time for task #42: 19.453449487686157\n",
            "\n",
            "\n",
            " task #43/72 --------------------\n",
            "X.shape (initial): (34465, 118)\n",
            "y.shape (initial): (34465,)\n",
            "Encoding features and response...\n",
            "Warning: No categorical columns found. Calling 'transform' will only return input data.\n",
            "...Done.\n",
            "Finding top 10 features if necessary...\n"
          ]
        },
        {
          "name": "stderr",
          "output_type": "stream",
          "text": [
            "44it [03:07, 11.57s/it]"
          ]
        },
        {
          "name": "stdout",
          "output_type": "stream",
          "text": [
            "  top 10 indices: [ 0  3  1 97  5  2 88 99 90  4]\n",
            "  X reduced shape: (34465, 10)\n",
            "...Done.\n",
            "Subsampling to 1000 if necessary...\n",
            "... Elapsed time for subsampling: 0.03161334991455078\n",
            "Number of rows in the subsample:  999\n",
            "Done.\n",
            "Elapsed time for task #43: 11.652350425720215\n",
            "\n",
            "\n",
            " task #44/72 --------------------\n",
            "X.shape (initial): (2534, 72)\n",
            "y.shape (initial): (2534,)\n",
            "Encoding features and response...\n",
            "Warning: No categorical columns found. Calling 'transform' will only return input data.\n",
            "...Done.\n",
            "Finding top 10 features if necessary...\n"
          ]
        },
        {
          "name": "stderr",
          "output_type": "stream",
          "text": [
            "45it [03:11,  9.45s/it]"
          ]
        },
        {
          "name": "stdout",
          "output_type": "stream",
          "text": [
            "  top 10 indices: [41 43 29 40 55 42 30 67 39 60]\n",
            "  X reduced shape: (2534, 10)\n",
            "...Done.\n",
            "Subsampling to 1000 if necessary...\n",
            "... Elapsed time for subsampling: 0.022888660430908203\n",
            "Number of rows in the subsample:  999\n",
            "Done.\n",
            "Elapsed time for task #44: 4.525864839553833\n",
            "\n",
            "\n",
            " task #45/72 --------------------\n"
          ]
        },
        {
          "name": "stderr",
          "output_type": "stream",
          "text": [
            "46it [03:21,  9.40s/it]"
          ]
        },
        {
          "name": "stdout",
          "output_type": "stream",
          "text": [
            "X.shape (initial): (1080, 856)\n",
            "y.shape (initial): (1080,)\n",
            "Encoding features and response...\n",
            "Warning: No categorical columns found. Calling 'transform' will only return input data.\n",
            "...Done.\n",
            "Finding top 10 features if necessary...\n",
            "  top 10 indices: [545 190 420 704 210 518 206 386 606 201]\n",
            "  X reduced shape: (1080, 10)\n",
            "...Done.\n",
            "Subsampling to 1000 if necessary...\n",
            "... Elapsed time for subsampling: 0.022815227508544922\n",
            "Number of rows in the subsample:  999\n",
            "Done.\n",
            "Elapsed time for task #45: 9.257000207901001\n",
            "\n",
            "\n",
            " task #46/72 --------------------\n",
            "X.shape (initial): (6118, 51)\n",
            "y.shape (initial): (6118,)\n",
            "Encoding features and response...\n",
            "Warning: No categorical columns found. Calling 'transform' will only return input data.\n",
            "...Done.\n",
            "Finding top 10 features if necessary...\n"
          ]
        },
        {
          "name": "stderr",
          "output_type": "stream",
          "text": [
            "47it [03:31,  9.68s/it]"
          ]
        },
        {
          "name": "stdout",
          "output_type": "stream",
          "text": [
            "  top 10 indices: [14 12 28 26 24 10 22 18 37 16]\n",
            "  X reduced shape: (6118, 10)\n",
            "...Done.\n",
            "Subsampling to 1000 if necessary...\n",
            "... Elapsed time for subsampling: 0.023974895477294922\n",
            "Number of rows in the subsample:  996\n",
            "Done.\n",
            "Elapsed time for task #46: 10.35729169845581\n",
            "\n",
            "\n",
            " task #47/72 --------------------\n"
          ]
        },
        {
          "name": "stderr",
          "output_type": "stream",
          "text": [
            "48it [03:33,  7.44s/it]"
          ]
        },
        {
          "name": "stdout",
          "output_type": "stream",
          "text": [
            "X.shape (initial): (1372, 4)\n",
            "y.shape (initial): (1372,)\n",
            "Encoding features and response...\n",
            "Warning: No categorical columns found. Calling 'transform' will only return input data.\n",
            "...Done.\n",
            "Finding top 10 features if necessary...\n",
            "...Done.\n",
            "Subsampling to 1000 if necessary...\n",
            "... Elapsed time for subsampling: 0.022424936294555664\n",
            "Number of rows in the subsample:  999\n",
            "Done.\n",
            "Elapsed time for task #47: 2.2118728160858154\n",
            "\n",
            "\n",
            " task #48/72 --------------------\n"
          ]
        },
        {
          "name": "stderr",
          "output_type": "stream",
          "text": [
            "49it [03:34,  5.41s/it]"
          ]
        },
        {
          "name": "stdout",
          "output_type": "stream",
          "text": [
            "X.shape (initial): (748, 4)\n",
            "y.shape (initial): (748,)\n",
            "Encoding features and response...\n",
            "Warning: No categorical columns found. Calling 'transform' will only return input data.\n",
            "...Done.\n",
            "Finding top 10 features if necessary...\n",
            "...Done.\n",
            "Elapsed time for task #48: 0.668339729309082\n",
            "\n",
            "\n",
            " task #49/72 --------------------\n",
            "X.shape (initial): (11055, 30)\n",
            "y.shape (initial): (11055,)\n",
            "Encoding features and response...\n",
            "Warning: No categorical columns found. Calling 'transform' will only return input data.\n",
            "...Done.\n",
            "Finding top 10 features if necessary...\n"
          ]
        },
        {
          "name": "stderr",
          "output_type": "stream",
          "text": [
            "50it [03:36,  4.37s/it]"
          ]
        },
        {
          "name": "stdout",
          "output_type": "stream",
          "text": [
            "  top 10 indices: [13  7 25  6  5 14 15 28 12  8]\n",
            "  X reduced shape: (11055, 10)\n",
            "...Done.\n",
            "Subsampling to 1000 if necessary...\n",
            "... Elapsed time for subsampling: 0.025200843811035156\n",
            "Number of rows in the subsample:  999\n",
            "Done.\n",
            "Elapsed time for task #49: 1.9336228370666504\n",
            "\n",
            "\n",
            " task #50/72 --------------------\n"
          ]
        },
        {
          "name": "stderr",
          "output_type": "stream",
          "text": [
            "51it [03:47,  6.36s/it]"
          ]
        },
        {
          "name": "stdout",
          "output_type": "stream",
          "text": [
            "X.shape (initial): (540, 37)\n",
            "y.shape (initial): (540,)\n",
            "Encoding features and response...\n",
            "Warning: No categorical columns found. Calling 'transform' will only return input data.\n",
            "...Done.\n",
            "Finding top 10 features if necessary...\n",
            "  top 10 indices: [27 26 33 22 28 19  0  1 25 21]\n",
            "  X reduced shape: (540, 10)\n",
            "...Done.\n",
            "Elapsed time for task #50: 10.99889874458313\n",
            "\n",
            "\n",
            " task #51/72 --------------------\n",
            "X.shape (initial): (45211, 16)\n",
            "y.shape (initial): (45211,)\n",
            "Encoding features and response...\n",
            "Warning: No categorical columns found. Calling 'transform' will only return input data.\n",
            "...Done.\n",
            "Finding top 10 features if necessary...\n"
          ]
        },
        {
          "name": "stderr",
          "output_type": "stream",
          "text": [
            "52it [04:17, 13.60s/it]"
          ]
        },
        {
          "name": "stdout",
          "output_type": "stream",
          "text": [
            "  top 10 indices: [11  5  0  9 10 15  1 13 12  3]\n",
            "  X reduced shape: (45211, 10)\n",
            "...Done.\n",
            "Subsampling to 1000 if necessary...\n",
            "... Elapsed time for subsampling: 0.04041457176208496\n",
            "Number of rows in the subsample:  999\n",
            "Done.\n",
            "Elapsed time for task #51: 30.501537561416626\n",
            "\n",
            "\n",
            " task #52/72 --------------------\n",
            "X.shape (initial): (9873, 32)\n",
            "y.shape (initial): (9873,)\n",
            "Encoding features and response...\n",
            "Warning: No categorical columns found. Calling 'transform' will only return input data.\n",
            "...Done.\n",
            "Finding top 10 features if necessary...\n"
          ]
        },
        {
          "name": "stderr",
          "output_type": "stream",
          "text": [
            "53it [05:14, 26.63s/it]"
          ]
        },
        {
          "name": "stdout",
          "output_type": "stream",
          "text": [
            "  top 10 indices: [25  4 10 27 24  7  1 29  2  8]\n",
            "  X reduced shape: (9873, 10)\n",
            "...Done.\n",
            "Subsampling to 1000 if necessary...\n",
            "... Elapsed time for subsampling: 0.025085926055908203\n",
            "Number of rows in the subsample:  998\n",
            "Done.\n",
            "Elapsed time for task #52: 57.04700422286987\n",
            "\n",
            "\n",
            " task #53/72 --------------------\n",
            "X.shape (initial): (10299, 561)\n",
            "y.shape (initial): (10299,)\n",
            "Encoding features and response...\n",
            "Warning: No categorical columns found. Calling 'transform' will only return input data.\n",
            "...Done.\n",
            "Finding top 10 features if necessary...\n"
          ]
        },
        {
          "name": "stderr",
          "output_type": "stream",
          "text": [
            "54it [06:04, 33.62s/it]"
          ]
        },
        {
          "name": "stdout",
          "output_type": "stream",
          "text": [
            "  top 10 indices: [ 40 558  41  52  49 559  53  56  50  57]\n",
            "  X reduced shape: (10299, 10)\n",
            "...Done.\n",
            "Subsampling to 1000 if necessary...\n",
            "... Elapsed time for subsampling: 0.02557516098022461\n",
            "Number of rows in the subsample:  997\n",
            "Done.\n",
            "Elapsed time for task #53: 49.9165575504303\n",
            "\n",
            "\n",
            " task #54/72 --------------------\n"
          ]
        },
        {
          "name": "stderr",
          "output_type": "stream",
          "text": [
            "55it [06:05, 23.82s/it]"
          ]
        },
        {
          "name": "stdout",
          "output_type": "stream",
          "text": [
            "X.shape (initial): (500, 12)\n",
            "y.shape (initial): (500,)\n",
            "Encoding features and response...\n",
            "Warning: No categorical columns found. Calling 'transform' will only return input data.\n",
            "...Done.\n",
            "Finding top 10 features if necessary...\n",
            "  top 10 indices: [ 2  8  0  4  1  6 10  3  5 11]\n",
            "  X reduced shape: (500, 10)\n",
            "...Done.\n",
            "Elapsed time for task #54: 0.9584224224090576\n",
            "\n",
            "\n",
            " task #55/72 --------------------\n",
            "X.shape (initial): (5500, 40)\n",
            "y.shape (initial): (5500,)\n",
            "Encoding features and response...\n",
            "Warning: No categorical columns found. Calling 'transform' will only return input data.\n",
            "...Done.\n",
            "Finding top 10 features if necessary...\n"
          ]
        },
        {
          "name": "stderr",
          "output_type": "stream",
          "text": [
            "56it [06:08, 17.41s/it]"
          ]
        },
        {
          "name": "stdout",
          "output_type": "stream",
          "text": [
            "  top 10 indices: [22 29 39 19  9  5  2  4 23 28]\n",
            "  X reduced shape: (5500, 10)\n",
            "...Done.\n",
            "Subsampling to 1000 if necessary...\n",
            "... Elapsed time for subsampling: 0.03547859191894531\n",
            "Number of rows in the subsample:  990\n",
            "Done.\n",
            "Elapsed time for task #55: 2.446132183074951\n",
            "\n",
            "\n",
            " task #56/72 --------------------\n",
            "X.shape (initial): (67557, 42)\n",
            "y.shape (initial): (67557,)\n",
            "Encoding features and response...\n",
            "Warning: No categorical columns found. Calling 'transform' will only return input data.\n",
            "...Done.\n",
            "Finding top 10 features if necessary...\n"
          ]
        },
        {
          "name": "stderr",
          "output_type": "stream",
          "text": [
            "57it [06:16, 14.79s/it]"
          ]
        },
        {
          "name": "stdout",
          "output_type": "stream",
          "text": [
            "  top 10 indices: [30  6 18 12 13  0 24 36 19 14]\n",
            "  X reduced shape: (67557, 10)\n",
            "...Done.\n",
            "Subsampling to 1000 if necessary...\n",
            "... Elapsed time for subsampling: 0.041795969009399414\n",
            "Number of rows in the subsample:  999\n",
            "Done.\n",
            "Elapsed time for task #56: 8.678444147109985\n",
            "\n",
            "\n",
            " task #57/72 --------------------\n",
            "X.shape (initial): (1080, 77)\n",
            "y.shape (initial): (1080,)\n",
            "Encoding features and response...\n",
            "Warning: No categorical columns found. Calling 'transform' will only return input data.\n",
            "...Done.\n",
            "Finding top 10 features if necessary...\n"
          ]
        },
        {
          "name": "stderr",
          "output_type": "stream",
          "text": [
            "58it [06:18, 10.79s/it]"
          ]
        },
        {
          "name": "stdout",
          "output_type": "stream",
          "text": [
            "  top 10 indices: [32 46 10 76 30 65 53 17  0 50]\n",
            "  X reduced shape: (1080, 10)\n",
            "...Done.\n",
            "Subsampling to 1000 if necessary...\n",
            "... Elapsed time for subsampling: 0.02282571792602539\n",
            "Number of rows in the subsample:  998\n",
            "Done.\n",
            "Elapsed time for task #57: 1.4576756954193115\n",
            "\n",
            "\n",
            " task #58/72 --------------------\n",
            "X.shape (initial): (1941, 27)\n",
            "y.shape (initial): (1941,)\n",
            "Encoding features and response...\n",
            "Warning: No categorical columns found. Calling 'transform' will only return input data.\n",
            "...Done.\n",
            "Finding top 10 features if necessary...\n"
          ]
        },
        {
          "name": "stderr",
          "output_type": "stream",
          "text": [
            "59it [06:19,  7.98s/it]"
          ]
        },
        {
          "name": "stdout",
          "output_type": "stream",
          "text": [
            "  top 10 indices: [10 21  4  7 22 13 17  0  1 24]\n",
            "  X reduced shape: (1941, 10)\n",
            "...Done.\n",
            "Subsampling to 1000 if necessary...\n",
            "... Elapsed time for subsampling: 0.023145675659179688\n",
            "Number of rows in the subsample:  997\n",
            "Done.\n",
            "Elapsed time for task #58: 1.4122834205627441\n",
            "\n",
            "\n",
            " task #59/72 --------------------\n"
          ]
        },
        {
          "name": "stderr",
          "output_type": "stream",
          "text": [
            "60it [06:20,  5.86s/it]"
          ]
        },
        {
          "name": "stdout",
          "output_type": "stream",
          "text": [
            "X.shape (initial): (540, 18)\n",
            "y.shape (initial): (540,)\n",
            "Encoding features and response...\n",
            "Warning: No categorical columns found. Calling 'transform' will only return input data.\n",
            "...Done.\n",
            "Finding top 10 features if necessary...\n",
            "  top 10 indices: [ 1  0 12 13  5  4 14 17 10 15]\n",
            "  X reduced shape: (540, 10)\n",
            "...Done.\n",
            "Elapsed time for task #59: 0.909733772277832\n",
            "\n",
            "\n",
            " task #60/72 --------------------\n"
          ]
        },
        {
          "name": "stderr",
          "output_type": "stream",
          "text": [
            "61it [06:21,  4.45s/it]"
          ]
        },
        {
          "name": "stdout",
          "output_type": "stream",
          "text": [
            "X.shape (initial): (4839, 5)\n",
            "y.shape (initial): (4839,)\n",
            "Encoding features and response...\n",
            "Warning: No categorical columns found. Calling 'transform' will only return input data.\n",
            "...Done.\n",
            "Finding top 10 features if necessary...\n",
            "...Done.\n",
            "Subsampling to 1000 if necessary...\n",
            "... Elapsed time for subsampling: 0.02387380599975586\n",
            "Number of rows in the subsample:  999\n",
            "Done.\n",
            "Elapsed time for task #60: 1.168506145477295\n",
            "\n",
            "\n",
            " task #61/72 --------------------\n"
          ]
        },
        {
          "name": "stderr",
          "output_type": "stream",
          "text": [
            "62it [06:22,  3.42s/it]"
          ]
        },
        {
          "name": "stdout",
          "output_type": "stream",
          "text": [
            "X.shape (initial): (1728, 6)\n",
            "y.shape (initial): (1728,)\n",
            "Encoding features and response...\n",
            "Warning: No categorical columns found. Calling 'transform' will only return input data.\n",
            "...Done.\n",
            "Finding top 10 features if necessary...\n",
            "...Done.\n",
            "Subsampling to 1000 if necessary...\n",
            "... Elapsed time for subsampling: 0.02283620834350586\n",
            "Number of rows in the subsample:  998\n",
            "Done.\n",
            "Elapsed time for task #61: 1.0068128108978271\n",
            "\n",
            "\n",
            " task #62/72 --------------------\n",
            "X.shape (initial): (2310, 16)\n",
            "y.shape (initial): (2310,)\n",
            "Encoding features and response...\n",
            "Warning: No categorical columns found. Calling 'transform' will only return input data.\n",
            "...Done.\n",
            "Finding top 10 features if necessary...\n"
          ]
        },
        {
          "name": "stderr",
          "output_type": "stream",
          "text": [
            "63it [06:24,  2.81s/it]"
          ]
        },
        {
          "name": "stdout",
          "output_type": "stream",
          "text": [
            "  top 10 indices: [15 12  8  7  6  9 14 10 13 11]\n",
            "  X reduced shape: (2310, 10)\n",
            "...Done.\n",
            "Subsampling to 1000 if necessary...\n",
            "... Elapsed time for subsampling: 0.02314615249633789\n",
            "Number of rows in the subsample:  994\n",
            "Done.\n",
            "Elapsed time for task #62: 1.3799090385437012\n",
            "\n",
            "\n",
            " task #63/72 --------------------\n",
            "X.shape (initial): (2000, 240)\n",
            "y.shape (initial): (2000,)\n",
            "Encoding features and response...\n",
            "Warning: No categorical columns found. Calling 'transform' will only return input data.\n",
            "...Done.\n",
            "Finding top 10 features if necessary...\n"
          ]
        },
        {
          "name": "stderr",
          "output_type": "stream",
          "text": [
            "64it [06:25,  2.33s/it]"
          ]
        },
        {
          "name": "stdout",
          "output_type": "stream",
          "text": [
            "  top 10 indices: [151 113  96  57  71  56  72 152  86 214]\n",
            "  X reduced shape: (2000, 10)\n",
            "...Done.\n",
            "Subsampling to 1000 if necessary...\n",
            "... Elapsed time for subsampling: 0.023044109344482422\n",
            "Number of rows in the subsample:  1000\n",
            "Done.\n",
            "Elapsed time for task #63: 1.2165896892547607\n",
            "\n",
            "\n",
            " task #64/72 --------------------\n",
            "X.shape (initial): (70000, 784)\n",
            "y.shape (initial): (70000,)\n",
            "Encoding features and response...\n",
            "Warning: No categorical columns found. Calling 'transform' will only return input data.\n",
            "...Done.\n",
            "Finding top 10 features if necessary...\n"
          ]
        },
        {
          "name": "stderr",
          "output_type": "stream",
          "text": [
            "65it [07:39, 23.83s/it]"
          ]
        },
        {
          "name": "stdout",
          "output_type": "stream",
          "text": [
            "  top 10 indices: [246 434 574 602 546 262 234 406 490 658]\n",
            "  X reduced shape: (70000, 10)\n",
            "...Done.\n",
            "Subsampling to 1000 if necessary...\n",
            "... Elapsed time for subsampling: 0.05324673652648926\n",
            "Number of rows in the subsample:  1000\n",
            "Done.\n",
            "Elapsed time for task #64: 73.98587989807129\n",
            "\n",
            "\n",
            " task #65/72 --------------------\n"
          ]
        },
        {
          "name": "stderr",
          "output_type": "stream",
          "text": [
            "66it [07:58, 22.50s/it]"
          ]
        },
        {
          "name": "stdout",
          "output_type": "stream",
          "text": [
            "X.shape (initial): (44819, 6)\n",
            "y.shape (initial): (44819,)\n",
            "Encoding features and response...\n",
            "Warning: No categorical columns found. Calling 'transform' will only return input data.\n",
            "...Done.\n",
            "Finding top 10 features if necessary...\n",
            "...Done.\n",
            "Subsampling to 1000 if necessary...\n",
            "... Elapsed time for subsampling: 0.03522205352783203\n",
            "Number of rows in the subsample:  998\n",
            "Done.\n",
            "Elapsed time for task #65: 19.40232276916504\n",
            "\n",
            "\n",
            " task #66/72 --------------------\n",
            "X.shape (initial): (96320, 21)\n",
            "y.shape (initial): (96320,)\n",
            "Encoding features and response...\n",
            "Warning: No categorical columns found. Calling 'transform' will only return input data.\n",
            "...Done.\n",
            "Finding top 10 features if necessary...\n"
          ]
        },
        {
          "name": "stderr",
          "output_type": "stream",
          "text": [
            "67it [08:41, 28.51s/it]"
          ]
        },
        {
          "name": "stdout",
          "output_type": "stream",
          "text": [
            "  top 10 indices: [15  1 19  5 12  4 14 18 20  9]\n",
            "  X reduced shape: (96320, 10)\n",
            "...Done.\n",
            "Subsampling to 1000 if necessary...\n",
            "... Elapsed time for subsampling: 0.04986572265625\n",
            "Number of rows in the subsample:  999\n",
            "Done.\n",
            "Elapsed time for task #66: 42.52905035018921\n",
            "\n",
            "\n",
            " task #67/72 --------------------\n",
            "X.shape (initial): (92000, 1024)\n",
            "y.shape (initial): (92000,)\n",
            "Encoding features and response...\n",
            "Warning: No categorical columns found. Calling 'transform' will only return input data.\n",
            "...Done.\n",
            "Finding top 10 features if necessary...\n"
          ]
        },
        {
          "name": "stderr",
          "output_type": "stream",
          "text": [
            "68it [10:32, 53.21s/it]"
          ]
        },
        {
          "name": "stdout",
          "output_type": "stream",
          "text": [
            "  top 10 indices: [619 611 431 910 908 579 643 675 712 594]\n",
            "  X reduced shape: (92000, 10)\n",
            "...Done.\n",
            "Subsampling to 1000 if necessary...\n",
            "... Elapsed time for subsampling: 0.10752558708190918\n",
            "Number of rows in the subsample:  966\n",
            "Done.\n",
            "Elapsed time for task #67: 110.83830332756042\n",
            "\n",
            "\n",
            " task #68/72 --------------------\n",
            "X.shape (initial): (60000, 3072)\n",
            "y.shape (initial): (60000,)\n",
            "Encoding features and response...\n",
            "Warning: No categorical columns found. Calling 'transform' will only return input data.\n",
            "...Done.\n",
            "Finding top 10 features if necessary...\n"
          ]
        },
        {
          "name": "stderr",
          "output_type": "stream",
          "text": [
            "69it [15:20, 123.89s/it]"
          ]
        },
        {
          "name": "stdout",
          "output_type": "stream",
          "text": [
            "  top 10 indices: [2085 2074 2057 2076 2083 2055 2103 2054 2050 2956]\n",
            "  X reduced shape: (60000, 10)\n",
            "...Done.\n",
            "Subsampling to 1000 if necessary...\n",
            "... Elapsed time for subsampling: 0.051497459411621094\n",
            "Number of rows in the subsample:  1000\n",
            "Done.\n",
            "Elapsed time for task #68: 288.81143021583557\n",
            "\n",
            "\n",
            " task #69/72 --------------------\n",
            "X.shape (initial): (3279, 1558)\n",
            "y.shape (initial): (3279,)\n",
            "Encoding features and response...\n",
            "Warning: No categorical columns found. Calling 'transform' will only return input data.\n",
            "...Done.\n",
            "Finding top 10 features if necessary...\n"
          ]
        },
        {
          "name": "stderr",
          "output_type": "stream",
          "text": [
            "70it [18:02, 135.26s/it]"
          ]
        },
        {
          "name": "stdout",
          "output_type": "stream",
          "text": [
            "  top 10 indices: [   1 1399    2  351    0 1229 1243  398 1483 1455]\n",
            "  X reduced shape: (3279, 10)\n",
            "...Done.\n",
            "Subsampling to 1000 if necessary...\n",
            "... Elapsed time for subsampling: 0.023302793502807617\n",
            "Number of rows in the subsample:  999\n",
            "Done.\n",
            "Elapsed time for task #69: 161.80345225334167\n",
            "\n",
            "\n",
            " task #70/72 --------------------\n",
            "X.shape (initial): (3186, 180)\n",
            "y.shape (initial): (3186,)\n",
            "Encoding features and response...\n",
            "Warning: No categorical columns found. Calling 'transform' will only return input data.\n",
            "...Done.\n",
            "Finding top 10 features if necessary...\n"
          ]
        },
        {
          "name": "stderr",
          "output_type": "stream",
          "text": [
            "71it [19:18, 117.42s/it]"
          ]
        },
        {
          "name": "stdout",
          "output_type": "stream",
          "text": [
            "  top 10 indices: [ 84  89  92 104  99  82  88  93  83  87]\n",
            "  X reduced shape: (3186, 10)\n",
            "...Done.\n",
            "Subsampling to 1000 if necessary...\n",
            "... Elapsed time for subsampling: 0.02329397201538086\n",
            "Number of rows in the subsample:  999\n",
            "Done.\n",
            "Elapsed time for task #70: 75.77686166763306\n",
            "\n",
            "\n",
            " task #71/72 --------------------\n",
            "X.shape (initial): (5000, 20)\n",
            "y.shape (initial): (5000,)\n",
            "Encoding features and response...\n",
            "Warning: No categorical columns found. Calling 'transform' will only return input data.\n",
            "...Done.\n",
            "Finding top 10 features if necessary...\n"
          ]
        },
        {
          "name": "stderr",
          "output_type": "stream",
          "text": [
            "72it [19:29, 16.24s/it] "
          ]
        },
        {
          "name": "stdout",
          "output_type": "stream",
          "text": [
            "  top 10 indices: [ 7  9 19  4 12 10 17 16 15 18]\n",
            "  X reduced shape: (5000, 10)\n",
            "...Done.\n",
            "Subsampling to 1000 if necessary...\n",
            "... Elapsed time for subsampling: 0.023724079132080078\n",
            "Number of rows in the subsample:  999\n",
            "Done.\n",
            "Elapsed time for task #71: 11.020227193832397\n",
            "Total elapsed time: {time()-start}\n"
          ]
        },
        {
          "name": "stderr",
          "output_type": "stream",
          "text": [
            "\n"
          ]
        }
      ],
      "source": [
        "warnings.filterwarnings(\"ignore\")\n",
        "\n",
        "benchmark_suite = openml.study.get_suite('OpenML-CC18') # obtain the benchmark suite\n",
        "\n",
        "n_tasks = len(benchmark_suite.tasks)\n",
        "\n",
        "Xys = {}\n",
        "\n",
        "start = time()\n",
        "for idx, task_id in tqdm(enumerate(benchmark_suite.tasks)):  # iterate over all tasks\n",
        "  try: \n",
        "    print(f\"\\n\\n task #{idx}/{n_tasks} --------------------\")\n",
        "    warnings.filterwarnings(\"ignore\")\n",
        "    # Get the task information\n",
        "    start = time()\n",
        "    task = openml.tasks.get_task(task_id)  # download the OpenML task\n",
        "    # get the data from openml\n",
        "    task_name = task.get_dataset().name\n",
        "    X_temp, y_temp = task.get_X_and_y()\n",
        "    Xys[task_name] = {\"task_id\": task_id,\n",
        "                      \"dataset\": select_NROWS_NCOLS(X_temp, y_temp)}\n",
        "    print(f\"Elapsed time for task #{idx}: {time()-start}\")\n",
        "  except:\n",
        "    continue\n",
        "print(\"Total elapsed time: {time()-start}\")"
      ]
    },
    {
      "cell_type": "code",
      "execution_count": null,
      "metadata": {},
      "outputs": [],
      "source": [
        "n_tasks = len(Xys)\n",
        "print"
      ]
    },
    {
      "cell_type": "code",
      "execution_count": 15,
      "metadata": {
        "colab": {
          "base_uri": "https://localhost:8080/"
        },
        "id": "iZni89GSsnSq",
        "outputId": "db787018-26e2-455d-f84b-e82808adeceb"
      },
      "outputs": [
        {
          "name": "stdout",
          "output_type": "stream",
          "text": [
            "\n",
            "\n",
            " task #1/72 --------------------\n",
            "(999, 10)\n",
            "(999,)\n",
            "float32\n",
            "uint8\n",
            "accuracy: 0.98\n",
            "Elapsed fitting time: 0.11992907524108887 seconds\n",
            "\n",
            "\n",
            " task #2/72 --------------------\n",
            "(987, 10)\n",
            "(987,)\n",
            "float32\n",
            "uint8\n",
            "accuracy: 0.803030303030303\n",
            "Elapsed fitting time: 0.1830589771270752 seconds\n",
            "\n",
            "\n",
            " task #3/72 --------------------\n",
            "(625, 4)\n",
            "(625,)\n",
            "float32\n",
            "uint8\n",
            "accuracy: 0.8\n",
            "Elapsed fitting time: 0.11958980560302734 seconds\n",
            "\n",
            "\n",
            " task #4/72 --------------------\n",
            "(1000, 10)\n",
            "(1000,)\n",
            "float32\n",
            "uint8\n",
            "accuracy: 0.915\n",
            "Elapsed fitting time: 0.20526337623596191 seconds\n",
            "\n",
            "\n",
            " task #5/72 --------------------\n",
            "(1000, 10)\n",
            "(1000,)\n",
            "float32\n",
            "uint8\n",
            "accuracy: 0.89\n",
            "Elapsed fitting time: 0.22701525688171387 seconds\n",
            "\n",
            "\n",
            " task #6/72 --------------------\n",
            "(699, 9)\n",
            "(699,)\n",
            "float32\n",
            "uint8\n",
            "accuracy: 0.9642857142857143\n",
            "Elapsed fitting time: 0.12316179275512695 seconds\n",
            "\n",
            "\n",
            " task #7/72 --------------------\n",
            "(1000, 10)\n",
            "(1000,)\n",
            "float32\n",
            "uint8\n",
            "accuracy: 0.935\n",
            "Elapsed fitting time: 0.22740483283996582 seconds\n",
            "\n",
            "\n",
            " task #8/72 --------------------\n",
            "(1000, 6)\n",
            "(1000,)\n",
            "float32\n",
            "uint8\n",
            "accuracy: 0.825\n",
            "Elapsed fitting time: 0.16219162940979004 seconds\n",
            "\n",
            "\n",
            " task #9/72 --------------------\n",
            "(1000, 10)\n",
            "(1000,)\n",
            "float32\n",
            "uint8\n",
            "accuracy: 0.8\n",
            "Elapsed fitting time: 0.2508273124694824 seconds\n",
            "\n",
            "\n",
            " task #10/72 --------------------\n",
            "(1000, 9)\n",
            "(1000,)\n",
            "float32\n",
            "uint8\n",
            "accuracy: 0.705\n",
            "Elapsed fitting time: 0.15129804611206055 seconds\n",
            "\n",
            "\n",
            " task #11/72 --------------------\n",
            "(996, 10)\n",
            "(996,)\n",
            "float32\n",
            "uint8\n",
            "accuracy: 0.9\n",
            "Elapsed fitting time: 0.18525433540344238 seconds\n",
            "\n",
            "\n",
            " task #12/72 --------------------\n",
            "(690, 10)\n",
            "(690,)\n",
            "float32\n",
            "uint8\n",
            "accuracy: 0.8478260869565217\n",
            "Elapsed fitting time: 0.14201569557189941 seconds\n",
            "\n",
            "\n",
            " task #13/72 --------------------\n",
            "(1000, 10)\n",
            "(1000,)\n",
            "float32\n",
            "uint8\n",
            "accuracy: 0.775\n",
            "Elapsed fitting time: 0.164717435836792 seconds\n",
            "\n",
            "\n",
            " task #14/72 --------------------\n",
            "(993, 10)\n",
            "(993,)\n",
            "float32\n",
            "uint8\n",
            "accuracy: 0.9447236180904522\n",
            "Elapsed fitting time: 0.17373156547546387 seconds\n",
            "\n",
            "\n",
            " task #15/72 --------------------\n",
            "(768, 8)\n",
            "(768,)\n",
            "float32\n",
            "uint8\n",
            "accuracy: 0.7402597402597403\n",
            "Elapsed fitting time: 0.2101123332977295 seconds\n",
            "\n",
            "\n",
            " task #16/72 --------------------\n",
            "(999, 10)\n",
            "(999,)\n",
            "float32\n",
            "uint8\n",
            "accuracy: 0.925\n",
            "Elapsed fitting time: 0.17096185684204102 seconds\n",
            "\n",
            "\n",
            " task #17/72 --------------------\n",
            "(999, 10)\n",
            "(999,)\n",
            "float32\n",
            "uint8\n",
            "accuracy: 0.97\n",
            "Elapsed fitting time: 0.1536390781402588 seconds\n",
            "\n",
            "\n",
            " task #18/72 --------------------\n",
            "(958, 9)\n",
            "(958,)\n",
            "float32\n",
            "uint8\n",
            "accuracy: 0.953125\n",
            "Elapsed fitting time: 0.13199329376220703 seconds\n",
            "\n",
            "\n",
            " task #19/72 --------------------\n",
            "(846, 10)\n",
            "(846,)\n",
            "float32\n",
            "uint8\n",
            "accuracy: 0.7470588235294118\n",
            "Elapsed fitting time: 0.2000904083251953 seconds\n",
            "\n",
            "\n",
            " task #20/72 --------------------\n",
            "(1000, 8)\n",
            "(1000,)\n",
            "float32\n",
            "uint8\n",
            "accuracy: 0.76\n",
            "Elapsed fitting time: 0.17612290382385254 seconds\n",
            "\n",
            "\n",
            " task #21/72 --------------------\n",
            "(997, 10)\n",
            "(997,)\n",
            "float32\n",
            "uint8\n",
            "accuracy: 0.875\n",
            "Elapsed fitting time: 0.17880535125732422 seconds\n",
            "\n",
            "\n",
            " task #22/72 --------------------\n",
            "(736, 10)\n",
            "(736,)\n",
            "float32\n",
            "uint8\n",
            "accuracy: 0.6351351351351351\n",
            "Elapsed fitting time: 0.1622636318206787 seconds\n",
            "\n",
            "\n",
            " task #23/72 --------------------\n",
            "(999, 10)\n",
            "(999,)\n",
            "float32\n",
            "uint8\n",
            "accuracy: 0.985\n",
            "Elapsed fitting time: 0.1503314971923828 seconds\n",
            "\n",
            "\n",
            " task #24/72 --------------------\n",
            "(990, 10)\n",
            "(990,)\n",
            "float32\n",
            "uint8\n",
            "accuracy: 0.9494949494949495\n",
            "Elapsed fitting time: 0.2707381248474121 seconds\n",
            "\n",
            "\n",
            " task #25/72 --------------------\n",
            "(988, 10)\n",
            "(988,)\n",
            "float32\n",
            "uint8\n",
            "accuracy: 0.5909090909090909\n",
            "Elapsed fitting time: 0.245131254196167 seconds\n",
            "\n",
            "\n",
            " task #26/72 --------------------\n",
            "(841, 10)\n",
            "(841,)\n",
            "float32\n",
            "uint8\n",
            "accuracy: 0.9822485207100592\n",
            "Elapsed fitting time: 0.14938759803771973 seconds\n",
            "\n",
            "\n",
            " task #27/72 --------------------\n",
            "(797, 4)\n",
            "(797,)\n",
            "float32\n",
            "uint8\n",
            "accuracy: 0.1375\n",
            "Elapsed fitting time: 0.13928747177124023 seconds\n",
            "\n",
            "\n",
            " task #28/72 --------------------\n",
            "(996, 10)\n",
            "(996,)\n",
            "float32\n",
            "uint8\n",
            "accuracy: 0.55\n",
            "Elapsed fitting time: 0.19013214111328125 seconds\n",
            "\n",
            "\n",
            " task #29/72 --------------------\n",
            "(999, 10)\n",
            "(999,)\n",
            "float32\n",
            "uint8\n",
            "accuracy: 0.955\n",
            "Elapsed fitting time: 0.15735363960266113 seconds\n",
            "\n",
            "\n",
            " task #30/72 --------------------\n",
            "(999, 10)\n",
            "(999,)\n",
            "float32\n",
            "uint8\n",
            "accuracy: 0.92\n",
            "Elapsed fitting time: 0.16664981842041016 seconds\n",
            "\n",
            "\n",
            " task #31/72 --------------------\n",
            "(999, 10)\n",
            "(999,)\n",
            "float32\n",
            "uint8\n",
            "accuracy: 0.825\n",
            "Elapsed fitting time: 0.19227027893066406 seconds\n",
            "\n",
            "\n",
            " task #32/72 --------------------\n",
            "(522, 10)\n",
            "(522,)\n",
            "float32\n",
            "uint8\n",
            "accuracy: 0.780952380952381\n",
            "Elapsed fitting time: 0.13985323905944824 seconds\n",
            "\n",
            "\n",
            " task #33/72 --------------------\n",
            "(999, 10)\n",
            "(999,)\n",
            "float32\n",
            "uint8\n",
            "accuracy: 0.895\n",
            "Elapsed fitting time: 0.17640042304992676 seconds\n",
            "\n",
            "\n",
            " task #34/72 --------------------\n",
            "(999, 10)\n",
            "(999,)\n",
            "float32\n",
            "uint8\n",
            "accuracy: 0.98\n",
            "Elapsed fitting time: 0.1530594825744629 seconds\n",
            "\n",
            "\n",
            " task #35/72 --------------------\n",
            "(999, 10)\n",
            "(999,)\n",
            "float32\n",
            "uint8\n",
            "accuracy: 0.84\n",
            "Elapsed fitting time: 0.15433740615844727 seconds\n",
            "\n",
            "\n",
            " task #36/72 --------------------\n",
            "(999, 10)\n",
            "(999,)\n",
            "float32\n",
            "uint8\n",
            "accuracy: 0.79\n",
            "Elapsed fitting time: 0.20677876472473145 seconds\n",
            "\n",
            "\n",
            " task #37/72 --------------------\n",
            "(569, 10)\n",
            "(569,)\n",
            "float32\n",
            "uint8\n",
            "accuracy: 0.956140350877193\n",
            "Elapsed fitting time: 0.14047503471374512 seconds\n",
            "\n",
            "\n",
            " task #38/72 --------------------\n",
            "(999, 5)\n",
            "(999,)\n",
            "float32\n",
            "uint8\n",
            "accuracy: 0.885\n",
            "Elapsed fitting time: 0.17470598220825195 seconds\n",
            "\n",
            "\n",
            " task #39/72 --------------------\n",
            "(999, 10)\n",
            "(999,)\n",
            "float32\n",
            "uint8\n",
            "accuracy: 0.925\n",
            "Elapsed fitting time: 0.1840677261352539 seconds\n",
            "\n",
            "\n",
            " task #40/72 --------------------\n",
            "(999, 10)\n",
            "(999,)\n",
            "float32\n",
            "uint8\n",
            "accuracy: 0.975\n",
            "Elapsed fitting time: 0.20060443878173828 seconds\n",
            "\n",
            "\n",
            " task #41/72 --------------------\n",
            "(996, 10)\n",
            "(996,)\n",
            "float32\n",
            "uint8\n",
            "accuracy: 0.515\n",
            "Elapsed fitting time: 0.12969064712524414 seconds\n",
            "\n",
            "\n",
            " task #42/72 --------------------\n",
            "(583, 10)\n",
            "(583,)\n",
            "float32\n",
            "uint8\n",
            "accuracy: 0.7435897435897436\n",
            "Elapsed fitting time: 0.14476871490478516 seconds\n",
            "\n",
            "\n",
            " task #43/72 --------------------\n",
            "(1000, 10)\n",
            "(1000,)\n",
            "float32\n",
            "uint8\n",
            "accuracy: 0.84\n",
            "Elapsed fitting time: 0.2072305679321289 seconds\n",
            "\n",
            "\n",
            " task #44/72 --------------------\n",
            "(999, 10)\n",
            "(999,)\n",
            "float32\n",
            "uint8\n",
            "accuracy: 0.915\n",
            "Elapsed fitting time: 0.13609623908996582 seconds\n",
            "\n",
            "\n",
            " task #45/72 --------------------\n",
            "(999, 10)\n",
            "(999,)\n",
            "float32\n",
            "uint8\n",
            "accuracy: 0.96\n",
            "Elapsed fitting time: 0.1726670265197754 seconds\n",
            "\n",
            "\n",
            " task #46/72 --------------------\n",
            "(999, 10)\n",
            "(999,)\n",
            "float32\n",
            "uint8\n",
            "accuracy: 0.725\n",
            "Elapsed fitting time: 0.11331391334533691 seconds\n",
            "\n",
            "\n",
            " task #47/72 --------------------\n",
            "(996, 10)\n",
            "(996,)\n",
            "float32\n",
            "uint8\n",
            "accuracy: 0.52\n",
            "Elapsed fitting time: 0.25183963775634766 seconds\n",
            "\n",
            "\n",
            " task #48/72 --------------------\n",
            "(999, 4)\n",
            "(999,)\n",
            "float32\n",
            "uint8\n",
            "accuracy: 1.0\n",
            "Elapsed fitting time: 0.14546608924865723 seconds\n",
            "\n",
            "\n",
            " task #49/72 --------------------\n",
            "(748, 4)\n",
            "(748,)\n",
            "float32\n",
            "uint8\n",
            "accuracy: 0.7266666666666667\n",
            "Elapsed fitting time: 0.13282394409179688 seconds\n",
            "\n",
            "\n",
            " task #50/72 --------------------\n",
            "(999, 10)\n",
            "(999,)\n",
            "float32\n",
            "uint8\n",
            "accuracy: 0.94\n",
            "Elapsed fitting time: 0.1253824234008789 seconds\n",
            "\n",
            "\n",
            " task #51/72 --------------------\n",
            "(540, 10)\n",
            "(540,)\n",
            "float32\n",
            "uint8\n",
            "accuracy: 0.8425925925925926\n",
            "Elapsed fitting time: 0.1428236961364746 seconds\n",
            "\n",
            "\n",
            " task #52/72 --------------------\n",
            "(999, 10)\n",
            "(999,)\n",
            "float32\n",
            "uint8\n",
            "accuracy: 0.885\n",
            "Elapsed fitting time: 0.1558372974395752 seconds\n",
            "\n",
            "\n",
            " task #53/72 --------------------\n",
            "(998, 10)\n",
            "(998,)\n",
            "float32\n",
            "uint8\n",
            "accuracy: 0.535\n",
            "Elapsed fitting time: 0.25450754165649414 seconds\n",
            "\n",
            "\n",
            " task #54/72 --------------------\n",
            "(997, 10)\n",
            "(997,)\n",
            "float32\n",
            "uint8\n",
            "accuracy: 0.745\n",
            "Elapsed fitting time: 0.2270348072052002 seconds\n",
            "\n",
            "\n",
            " task #55/72 --------------------\n",
            "(500, 10)\n",
            "(500,)\n",
            "float32\n",
            "uint8\n",
            "accuracy: 0.53\n",
            "Elapsed fitting time: 0.12709689140319824 seconds\n",
            "\n",
            "\n",
            " task #56/72 --------------------\n",
            "(990, 10)\n",
            "(990,)\n",
            "float32\n",
            "uint8\n",
            "accuracy: 0.9494949494949495\n",
            "Elapsed fitting time: 0.21314549446105957 seconds\n",
            "\n",
            "\n",
            " task #57/72 --------------------\n",
            "(999, 10)\n",
            "(999,)\n",
            "float32\n",
            "uint8\n",
            "accuracy: 0.715\n",
            "Elapsed fitting time: 0.17456960678100586 seconds\n",
            "\n",
            "\n",
            " task #58/72 --------------------\n",
            "(998, 10)\n",
            "(998,)\n",
            "float32\n",
            "uint8\n",
            "accuracy: 0.96\n",
            "Elapsed fitting time: 0.22387385368347168 seconds\n",
            "\n",
            "\n",
            " task #59/72 --------------------\n",
            "(997, 10)\n",
            "(997,)\n",
            "float32\n",
            "uint8\n",
            "accuracy: 0.745\n",
            "Elapsed fitting time: 0.2230207920074463 seconds\n",
            "\n",
            "\n",
            " task #60/72 --------------------\n",
            "(540, 10)\n",
            "(540,)\n",
            "float32\n",
            "uint8\n",
            "accuracy: 0.9351851851851852\n",
            "Elapsed fitting time: 0.14040160179138184 seconds\n",
            "\n",
            "\n",
            " task #61/72 --------------------\n",
            "(999, 5)\n",
            "(999,)\n",
            "float32\n",
            "uint8\n",
            "accuracy: 0.995\n",
            "Elapsed fitting time: 0.15399909019470215 seconds\n",
            "\n",
            "\n",
            " task #62/72 --------------------\n",
            "(998, 6)\n",
            "(998,)\n",
            "float32\n",
            "uint8\n",
            "accuracy: 0.975\n",
            "Elapsed fitting time: 0.12183356285095215 seconds\n",
            "\n",
            "\n",
            " task #63/72 --------------------\n",
            "(994, 10)\n",
            "(994,)\n",
            "float32\n",
            "uint8\n",
            "accuracy: 0.9195979899497487\n",
            "Elapsed fitting time: 0.19069266319274902 seconds\n",
            "\n",
            "\n",
            " task #64/72 --------------------\n",
            "(1000, 10)\n",
            "(1000,)\n",
            "float32\n",
            "uint8\n",
            "accuracy: 0.755\n",
            "Elapsed fitting time: 0.13838958740234375 seconds\n",
            "\n",
            "\n",
            " task #65/72 --------------------\n",
            "(1000, 10)\n",
            "(1000,)\n",
            "float32\n",
            "uint8\n",
            "accuracy: 0.495\n",
            "Elapsed fitting time: 0.23039674758911133 seconds\n",
            "\n",
            "\n",
            " task #66/72 --------------------\n",
            "(998, 6)\n",
            "(998,)\n",
            "float32\n",
            "uint8\n",
            "accuracy: 0.785\n",
            "Elapsed fitting time: 0.14055585861206055 seconds\n",
            "\n",
            "\n",
            " task #67/72 --------------------\n",
            "(999, 10)\n",
            "(999,)\n",
            "float32\n",
            "uint8\n",
            "accuracy: 0.57\n",
            "Elapsed fitting time: 0.25182271003723145 seconds\n",
            "\n",
            "\n",
            " task #68/72 --------------------\n",
            "(966, 10)\n",
            "(966,)\n",
            "float32\n",
            "uint8\n",
            "accuracy: 0.20103092783505155\n",
            "Elapsed fitting time: 0.2526664733886719 seconds\n",
            "\n",
            "\n",
            " task #69/72 --------------------\n",
            "(1000, 10)\n",
            "(1000,)\n",
            "float32\n",
            "uint8\n",
            "accuracy: 0.24\n",
            "Elapsed fitting time: 0.26909899711608887 seconds\n",
            "\n",
            "\n",
            " task #70/72 --------------------\n",
            "(999, 10)\n",
            "(999,)\n",
            "float32\n",
            "uint8\n",
            "accuracy: 0.96\n",
            "Elapsed fitting time: 0.13645553588867188 seconds\n",
            "\n",
            "\n",
            " task #71/72 --------------------\n",
            "(999, 10)\n",
            "(999,)\n",
            "float32\n",
            "uint8\n",
            "accuracy: 0.895\n",
            "Elapsed fitting time: 0.12101244926452637 seconds\n",
            "\n",
            "\n",
            " task #72/72 --------------------\n",
            "(999, 10)\n",
            "(999,)\n",
            "float32\n",
            "uint8\n",
            "accuracy: 0.945\n",
            "Elapsed fitting time: 0.18833351135253906 seconds\n",
            "Total tasks: 71\n"
          ]
        }
      ],
      "source": [
        "from sklearn.ensemble import RandomForestClassifier\n",
        "from sklearn.model_selection import train_test_split\n",
        "\n",
        "n_tasks = len(Xys)\n",
        "clf = RandomForestClassifier()\n",
        "\n",
        "for i, (key, value) in enumerate(Xys.items()):\n",
        "  print(f\"\\n\\n task #{i+1}/{n_tasks} --------------------\")  \n",
        "  X, y = value[\"dataset\"]\n",
        "  print(X.shape)\n",
        "  print(y.shape)\n",
        "  print(X.dtype)\n",
        "  print(y.dtype)\n",
        "  X_train, X_test, y_train, y_test = train_test_split(X, y,\n",
        "                                                      test_size=0.2,\n",
        "                                                      random_state=42)\n",
        "  start = time()\n",
        "  print(f\"accuracy: {clf.fit(X_train, y_train).score(X_test, y_test)}\")\n",
        "  print(f\"Elapsed fitting time: {time() - start} seconds\")\n",
        "print(f\"Total tasks: {i}\")"
      ]
    },
    {
      "cell_type": "markdown",
      "metadata": {
        "id": "xa46t2mUYa2Q"
      },
      "source": [
        "# 3 - save data"
      ]
    },
    {
      "cell_type": "code",
      "execution_count": 13,
      "metadata": {},
      "outputs": [
        {
          "name": "stdout",
          "output_type": "stream",
          "text": [
            "Number of data sets: 72\n"
          ]
        }
      ],
      "source": [
        "print(f\"Number of data sets: {len(Xys)}\")"
      ]
    },
    {
      "cell_type": "code",
      "execution_count": 14,
      "metadata": {
        "id": "U9YJOP8kYeht"
      },
      "outputs": [
        {
          "data": {
            "text/plain": [
              "['openml-cc18-Xys-2024-05-20.pkl']"
            ]
          },
          "execution_count": 14,
          "metadata": {},
          "output_type": "execute_result"
        }
      ],
      "source": [
        "joblib.dump(Xys, \"openml-cc18-Xys-2024-05-20.pkl\")"
      ]
    }
  ],
  "metadata": {
    "colab": {
      "provenance": [],
      "toc_visible": true
    },
    "kernelspec": {
      "display_name": "Python 3",
      "name": "python3"
    },
    "language_info": {
      "codemirror_mode": {
        "name": "ipython",
        "version": 3
      },
      "file_extension": ".py",
      "mimetype": "text/x-python",
      "name": "python",
      "nbconvert_exporter": "python",
      "pygments_lexer": "ipython3",
      "version": "3.10.13"
    }
  },
  "nbformat": 4,
  "nbformat_minor": 0
}
